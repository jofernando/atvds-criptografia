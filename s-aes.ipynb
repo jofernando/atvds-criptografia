{
 "cells": [
  {
   "cell_type": "code",
   "execution_count": 1,
   "metadata": {
    "collapsed": false
   },
   "outputs": [
    {
     "name": "stdout",
     "output_type": "stream",
     "text": [
      "0b11100111000\n"
     ]
    }
   ],
   "source": [
    "class SimplifiedAES(object):\n",
    "    sBox = [0x9, 0x4, 0xA, 0xB, 0xD, 0x1, 0x8,\n",
    "            0x5, 0x6, 0x2, 0x0, 0x3, 0xC, 0xE, 0xF, 0x7,]\n",
    "\n",
    "    sBoxI = [0xA, 0x5, 0x9, 0xB, 0x1, 0x7, 0x8,\n",
    "             0xF, 0x6, 0x0, 0x2, 0x3, 0xC, 0x4, 0xD, 0xE,]\n",
    "\n",
    "    def __init__(self, key):\n",
    "        self.pre_round_key, self.round1_key, self.round2_key = self.key_expansion(\n",
    "            key)\n",
    "\n",
    "    def sub_word(self, word):\n",
    "        return (self.sBox[(word >> 4)] << 4) + self.sBox[word & 0x0F]\n",
    "\n",
    "    def rot_word(self, word):\n",
    "        return ((word & 0x0F) << 4) + ((word & 0xF0) >> 4)\n",
    "\n",
    "    def key_expansion(self, key):\n",
    "        Rcon1 = 0x80\n",
    "        Rcon2 = 0x30\n",
    "\n",
    "        w = [None] * 6\n",
    "        w[0] = (key & 0xFF00) >> 8\n",
    "        w[1] = key & 0x00FF\n",
    "        w[2] = w[0] ^ (self.sub_word(self.rot_word(w[1])) ^ Rcon1)\n",
    "        w[3] = w[2] ^ w[1]\n",
    "        w[4] = w[2] ^ (self.sub_word(self.rot_word(w[3])) ^ Rcon2)\n",
    "        w[5] = w[4] ^ w[3]\n",
    "\n",
    "        return (\n",
    "            self.int_to_state((w[0] << 8) + w[1]),\n",
    "            self.int_to_state((w[2] << 8) + w[3]),\n",
    "            self.int_to_state((w[4] << 8) + w[5]),\n",
    "        )\n",
    "\n",
    "    def gf_mult(self, a, b):\n",
    "        product = 0\n",
    "        a = a & 0x0F\n",
    "        b = b & 0x0F\n",
    "        while a and b:\n",
    "            if b & 1:\n",
    "                product = product ^ a\n",
    "            a = a << 1\n",
    "            if a & (1 << 4):\n",
    "                a = a ^ 0b10011\n",
    "            b = b >> 1\n",
    "\n",
    "        return product\n",
    "\n",
    "    def int_to_state(self, n):\n",
    "        return [n >> 12 & 0xF, (n >> 4) & 0xF, (n >> 8) & 0xF, n & 0xF]\n",
    "\n",
    "    def state_to_int(self, m):\n",
    "        return (m[0] << 12) + (m[2] << 8) + (m[1] << 4) + m[3]\n",
    "\n",
    "    def add_round_key(self, s1, s2):\n",
    "        return [i ^ j for i, j in zip(s1, s2)]\n",
    "\n",
    "    def sub_nibbles(self, sbox, state):\n",
    "        return [sbox[nibble] for nibble in state]\n",
    "\n",
    "    def shift_rows(self, state):\n",
    "        return [state[0], state[1], state[3], state[2]]\n",
    "\n",
    "    def mix_columns(self, state):\n",
    "        return [\n",
    "            state[0] ^ self.gf_mult(4, state[2]),\n",
    "            state[1] ^ self.gf_mult(4, state[3]),\n",
    "            state[2] ^ self.gf_mult(4, state[0]),\n",
    "            state[3] ^ self.gf_mult(4, state[1]),\n",
    "        ]\n",
    "\n",
    "    def inverse_mix_columns(self, state):\n",
    "        return [\n",
    "            self.gf_mult(9, state[0]) ^ self.gf_mult(2, state[2]),\n",
    "            self.gf_mult(9, state[1]) ^ self.gf_mult(2, state[3]),\n",
    "            self.gf_mult(9, state[2]) ^ self.gf_mult(2, state[0]),\n",
    "            self.gf_mult(9, state[3]) ^ self.gf_mult(2, state[1]),\n",
    "        ]\n",
    "\n",
    "    def encrypt(self, plaintext):\n",
    "        state = self.add_round_key(\n",
    "            self.pre_round_key, self.int_to_state(plaintext))\n",
    "\n",
    "        state = self.mix_columns(self.shift_rows(\n",
    "            self.sub_nibbles(self.sBox, state)))\n",
    "\n",
    "        state = self.add_round_key(self.round1_key, state)\n",
    "\n",
    "        state = self.shift_rows(self.sub_nibbles(self.sBox, state))\n",
    "\n",
    "        state = self.add_round_key(self.round2_key, state)\n",
    "\n",
    "        return self.state_to_int(state)\n",
    "\n",
    "plaintext = 0b0110111101101011\n",
    "key = 0b1010011100111011 \n",
    "ciphertext = SimplifiedAES(key).encrypt(plaintext)\n",
    "print(bin(ciphertext))"
   ]
  },
  {
   "cell_type": "code",
   "execution_count": 0,
   "metadata": {
    "collapsed": false
   },
   "outputs": [
   ],
   "source": [
   ]
  }
 ],
 "metadata": {
  "kernelspec": {
   "argv": [
    "/usr/bin/python3",
    "-m",
    "ipykernel",
    "--HistoryManager.enabled=False",
    "--matplotlib=inline",
    "-c",
    "%config InlineBackend.figure_formats = set(['retina'])\nimport matplotlib; matplotlib.rcParams['figure.figsize'] = (12, 7)",
    "-f",
    "{connection_file}"
   ],
   "display_name": "Python 3 (system-wide)",
   "env": {
   },
   "language": "python",
   "metadata": {
    "cocalc": {
     "description": "Python 3 programming language",
     "priority": 100,
     "url": "https://www.python.org/"
    }
   },
   "name": "python3",
   "resource_dir": "/ext/jupyter/kernels/python3"
  },
  "language_info": {
   "codemirror_mode": {
    "name": "ipython",
    "version": 3
   },
   "file_extension": ".py",
   "mimetype": "text/x-python",
   "name": "python",
   "nbconvert_exporter": "python",
   "pygments_lexer": "ipython3",
   "version": "3.10.6"
  }
 },
 "nbformat": 4,
 "nbformat_minor": 4
}