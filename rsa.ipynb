{
 "cells": [
  {
   "cell_type": "markdown",
   "metadata": {
    "collapsed": false
   },
   "source": [
    "1. Quais são os principais elementos de um criptossistema de chave pública?"
   ]
  },
  {
   "cell_type": "markdown",
   "metadata": {
    "collapsed": false
   },
   "source": [
    "Temos diversos elementos que formam o algoritmo como `Chave Pública e Chave Privada` utilizadas para criptografar e descriptografar as mensagens, `Algoritmo de Criptografia` escolhido para realizar a criptografia, `Geração de Chaves` para obter as chaves pública e privada, `Sistema de Troca de Chaves Segura` que é responsável pela troca de chaves e devemos ter algum `Gerenciamento de Chaves`."
   ]
  },
  {
   "cell_type": "markdown",
   "metadata": {
    "collapsed": false
   },
   "source": [
    "2. Quais são os papéis da chave pública e da privada?"
   ]
  },
  {
   "cell_type": "markdown",
   "metadata": {
    "collapsed": false
   },
   "source": [
    "As chaves são utilizadas para criptografar e descriptografar as mensagens, mas também garantem que somente o usuário que é possuidor da chave pública consiga descriptografar com a chave privada. Além disso, com esse sistema é possível fazer uma \"criptografia dupla\" no caso de aumentar a segurança ainda mais, utilizando a chave pública de uma pessoa para criptografar a mensagem e a chave privada de quem está enviando a mensagem para gerar um texto criptografado a partir da saída da chave pública do destinatário. Quem receber a mensagem teria que descriptografar com a chave pública de quem enviou e em seguida descriptografar novamente com a chave privada.\n",
    "Dessa forma, o papel geral das chaves é garantir a segurança e a troca segura de chaves visto que a partir da chave pública não é possível realizar chegar a chave privada."
   ]
  },
  {
   "cell_type": "markdown",
   "metadata": {
    "collapsed": false
   },
   "source": [
    "3. Que requisitos os criptossistemas de chave pública precisam cumprir para serem um algoritmo\n",
    "seguro?"
   ]
  },
  {
   "cell_type": "markdown",
   "metadata": {
    "collapsed": false
   },
   "source": [
    "Temos cerca de seis requisitos para criptosistemas de chave pública.\n",
    "1. É computacionalmente fácil para uma parte $B$ gerar um par (chave pública $PU_b$, chave privada $PR_b$);\n",
    "2. É computacionalmente fácil que um emissor $A$, conhecendo a chave pública e a mensagem a ser encriptada, $M$, gere o texto cifrado correspondente: $C = E(PU_b, M)$.\n",
    "3. É computacionalmente fácil que o receptor $B$ decripte o texto cifrado resultante usando a chave privada para recuperar a mensagem original: $M = D(PR_b, C) = D[PR_b, E(PU_b, M)]$`\n",
    "4. É computacionalmente inviável que um invasor, conhecendo a chave pública, $PU_b$, determine a chave privada, $PR_b$.\n",
    "5. É computacionalmente inviável que um invasor, conhecendo a chave pública, $PU_b$, e um texto cifrado, $C$, recupere a mensagem original, $M$.\n",
    "6. As duas chaves podem ser aplicadas em qualquer ordem: $M = D[PU_b, E(PR_b, M)] = D[PR_b, E(PU_b, M)]$"
   ]
  },
  {
   "cell_type": "markdown",
   "metadata": {
    "collapsed": false
   },
   "source": [
    "4. Descreva, em termos gerais, um procedimento eficiente para se escolher um número primo."
   ]
  },
  {
   "cell_type": "markdown",
   "metadata": {
    "collapsed": false
   },
   "source": [
    "Segundo o livro, temos duas formas para escolher primos\n",
    "\n",
    "Primeira forma: Escolha um número ímpar aleatório da ordem de grandeza desejada, teste se ele é primo. Se não, escolha números aleatórios sucessivos até que seja encontrado um primo.\n",
    "\n",
    "Segunda forma: \n",
    "1. Escolha um inteiro ímpar $n$ aleatoriamente (por exemplo, usando um gerador de número pseudoaleatório). \n",
    "2. Escolha um inteiro $a < n$ aleatoriamente. \n",
    "3. Realize o teste probabilístico de números primos, como Miller-Rabin<sup>1</sup>, usando $a$ como parâmetro. Se $n$ falhar no teste, rejeite o valor dele e vá para a etapa 1.\n",
    "4. Se $n$ tiver passado por um número de testes suficiente, aceite-o; caso contrário, vá para a etapa 2.\n",
    "\n",
    "<sup>*1 o procedimento para testar se determinado inteiro n é primo é realizar algum cálculo que envolva n e um inteiro escolhido aleatoriamente, a. Se n “falhar” no teste, então não é primo. Se “passar” no teste, então n pode ser primo ou não. Se passar em muitos desses testes com muitos valores escolhidos aleatoriamente para a, então podemos ter uma alta segurança de que n, realmente, é primo.</sup>"
   ]
  },
  {
   "cell_type": "markdown",
   "metadata": {
    "collapsed": false
   },
   "source": [
    "5. Antes da descoberta de quaisquer esquemas de chave pública especificas, como RSA, uma prova de existência foi desenvolvida, cuja finalidade era demonstrar que a encriptação de chave pública é possível em teoria. Considere as funções $f_1(x_1) = z_1; f_2(x_2, y_2) = z_2; f_3(x_3, y_3) = z_3$, onde todos os valores são inteiros com $1 \\leq xi, yi, zi \\leq N$. A função $f_1$, pode ser representada por um vetor $M1$ de tamanho $N$, em que a k-ésima entrada é o valor de $f_1(k)$. De modo semelhante, $f_2$ e $f_3$ podem ser representados pelas matrizes $M2$ e $M3$ de tamanho $N \\times N$. A intenção é indicar o processo de encriptação/decriptação por pesquisas de tabela para aquelas com valores muito grandes de $N$. Essas tabelas seriam impraticavelmente grandes, mas, a princípio, poderiam ser construídas. O esquema funciona da seguinte forma: construa $M1$ com uma permutação aleatória de todos os inteiros entre $1$ e $N$; ou seja, cada inteiro aparece exatamente uma vez em $M1$. Construa $M2$, de modo que cada linha contenha uma permutação aleatória dos primeiros $N$ inteiros. Finalmente, preencha $M3$ para satisfazer a seguinte condição: $f_3(f_2(f_1(k), p), k) = p$ para todo $k, p$ com $1 \\leq k, p \\leq N$ \n",
    "Resumindo,\n",
    "\t1. $M1$ toma uma entrada $k$ e produz uma saída $x$.\n",
    "\t2. $M2$ toma as entradas $x$ e $p$, dando a saída $z$.\n",
    "\t3. $M3$ toma as entradas $z$ e $k$ e produz $p$.  \n",
    "As três tabelas, uma vez construídas, se tornam públicas.  "
   ]
  },
  {
   "cell_type": "markdown",
   "metadata": {
    "collapsed": false
   },
   "source": [
    "a) Deverá ficar claro que é possível construir $M3$ para satisfazer a condição anterior. Como um exemplo, preencha $M3$ para o caso simples a seguir: \n",
    "$$\n",
    "M = \\begin{bmatrix}\n",
    "       5\\\\\n",
    "       4\\\\\n",
    "       3\\\\\n",
    "       2\\\\\n",
    "       1\\\\\n",
    "       \\end{bmatrix}\n",
    "M2 = \\begin{bmatrix}\n",
    "       5 &2& 3& 4& 1\\\\\n",
    "       4 &2 &5 &1 &3\\\\\n",
    "       1 &3 &2 &4 &5\\\\\n",
    "       3 &1 &4 &2 &5\\\\\n",
    "       2 &5 &3 &4 &1\\\\\n",
    "       \\end{bmatrix}\n",
    "M3 = \\begin{bmatrix}\n",
    "       a_1&a_2&a_3&a_4&a_5\\\\\n",
    "       b_1&b_2&b_3&b_4&b_5\\\\\n",
    "       c_1&c_2&c_3&c_4&c_5\\\\\n",
    "       d_1&d_2&d_3&d_4&d_5\\\\\n",
    "       e_1&e_2&e_3&e_4&e_5\\\\\n",
    "       \\end{bmatrix}\n",
    "$$  \n",
    "Convenção: o i-ésimo elemento de $M1$ corresponde a $k = i$. A i-ésima linha de $M2$ diz respeito a $x = i$; a j-ésima coluna de $M2$ equivale a $p = j$. A i-ésima linha de $M3$ indica $z = i$; a j-ésima\n",
    "coluna de $M3$ relaciona-se a $k = j$."
   ]
  },
  {
   "cell_type": "markdown",
   "metadata": {
    "collapsed": false
   },
   "source": [
    "$$f_1(1)=5,f_1(2)=4,f_1(3)=3,f_1(4)=2,f_1(5)=1$$\n",
    "$$f_2(1,1)=5,f_2(1,2)=2,f_2(1,3)=3,f_2(1,4)=4,f_2(1,5)=1$$\n",
    "$$f_2(2,1)=4,f_2(2,2)=2,f_2(2,3)=5,f_2(2,4)=1,f_2(2,5)=3$$\n",
    "$$f_2(3,1)=1,f_2(3,2)=3,f_2(3,3)=2,f_2(3,4)=4,f_2(3,5)=5$$\n",
    "$$f_2(4,1)=3,f_2(4,2)=1,f_2(4,3)=4,f_2(4,4)=2,f_2(4,5)=5$$\n",
    "$$f_2(5,1)=2,f_2(5,2)=5,f_2(5,3)=3,f_2(5,4)=4,f_2(5,5)=1$$\n",
    "$$f_1(k), f_2(f_1(k), p), f_3(f_2(f_1(k), p), k) = p$$\n",
    "$$k=j=1, p=1, f_1(1)=5, f_2(5, 1)=2, f_3(2, 1)=1$$\n",
    "$$k=j=2, p=1, f_1(2)=4, f_2(4, 1)=3, f_3(3, 2)=1$$\n",
    "$$k=j=3, p=1, f_1(3)=3, f_2(3, 1)=1, f_3(1, 3)=1$$\n",
    "$$k=j=4, p=1, f_1(4)=2, f_2(2, 1)=4, f_3(4, 4)=1$$\n",
    "$$k=j=5, p=1, f_1(5)=1, f_2(1, 1)=5, f_3(5, 5)=1$$\n",
    "$$\n",
    "M3 = \\begin{bmatrix}\n",
    "       a_1&a_2&1&a_4&a_5\\\\\n",
    "       1&b_2&b_3&b_4&b_5\\\\\n",
    "       c_1&1&c_3&c_4&c_5\\\\\n",
    "       d_1&d_2&d_3&1&d_5\\\\\n",
    "       e_1&e_2&e_3&e_4&1\\\\\n",
    "       \\end{bmatrix}\n",
    "$$\n",
    "$$k=j=1, p=2, f_1(1)=5, f_2(5, 2)=5, f_3(5, 1)=2$$\n",
    "$$k=j=2, p=2, f_1(2)=4, f_2(4, 2)=1, f_3(1, 2)=2$$\n",
    "$$k=j=3, p=2, f_1(3)=3, f_2(3, 2)=3, f_3(3, 3)=2$$\n",
    "$$k=j=4, p=2, f_1(4)=2, f_2(2, 2)=2, f_3(2, 4)=2$$\n",
    "$$k=j=5, p=2, f_1(5)=1, f_2(1, 2)=2, f_3(2, 5)=2$$\n",
    "$$\n",
    "M3 = \\begin{bmatrix}\n",
    "       a_1&2&1&a_4&a_5\\\\\n",
    "       1&b_2&b_3&2&2\\\\\n",
    "       c_1&1&2&c_4&c_5\\\\\n",
    "       d_1&d_2&d_3&1&d_5\\\\\n",
    "       2&e_2&e_3&e_4&1\\\\\n",
    "       \\end{bmatrix}\n",
    "$$\n",
    "$$k=j=1, p=3, f_1(1)=5, f_2(5, 3)=3, f_3(3, 1)=3$$\n",
    "$$k=j=2, p=3, f_1(2)=4, f_2(4, 3)=4, f_3(4, 2)=3$$\n",
    "$$k=j=3, p=3, f_1(3)=3, f_2(3, 3)=2, f_3(2, 3)=3$$\n",
    "$$k=j=4, p=3, f_1(4)=2, f_2(2, 3)=5, f_3(5, 4)=3$$\n",
    "$$k=j=5, p=3, f_1(5)=1, f_2(1, 3)=3, f_3(3, 5)=3$$\n",
    "$$\n",
    "M3 = \\begin{bmatrix}\n",
    "       a_1&2&1&a_4&a_5\\\\\n",
    "       1&b_2&3&2&2\\\\\n",
    "       3&1&2&c_4&3\\\\\n",
    "       d_1&3&d_3&1&d_5\\\\\n",
    "       2&e_2&e_3&3&1\\\\\n",
    "       \\end{bmatrix}\n",
    "$$\n",
    "$$k=j=1, p=4, f_1(1)=5, f_2(5, 4)=4, f_3(4, 1)=4$$\n",
    "$$k=j=2, p=4, f_1(2)=4, f_2(4, 4)=2, f_3(2, 2)=4$$\n",
    "$$k=j=3, p=4, f_1(3)=3, f_2(3, 4)=4, f_3(4, 3)=4$$\n",
    "$$k=j=4, p=4, f_1(4)=2, f_2(2, 4)=1, f_3(1, 4)=4$$\n",
    "$$k=j=5, p=4, f_1(5)=1, f_2(1, 4)=4, f_3(4, 5)=4$$\n",
    "$$\n",
    "M3 = \\begin{bmatrix}\n",
    "       a_1&2&1&4&a_5\\\\\n",
    "       1&4&3&2&2\\\\\n",
    "       3&1&2&c_4&3\\\\\n",
    "       4&3&4&1&4\\\\\n",
    "       2&e_2&e_3&3&1\\\\\n",
    "       \\end{bmatrix}\n",
    "$$\n",
    "$$k=j=1, p=5, f_1(1)=5, f_2(5, 5)=1, f_3(1, 1)=5$$\n",
    "$$k=j=2, p=5, f_1(2)=4, f_2(4, 5)=5, f_3(5, 2)=5$$\n",
    "$$k=j=3, p=5, f_1(3)=3, f_2(3, 5)=5, f_3(5, 3)=5$$\n",
    "$$k=j=4, p=5, f_1(4)=2, f_2(2, 5)=3, f_3(3, 4)=5$$\n",
    "$$k=j=5, p=5, f_1(5)=1, f_2(1, 5)=1, f_3(1, 5)=5$$\n",
    "$$\n",
    "M3 = \\begin{bmatrix}\n",
    "       5&2&1&4&5\\\\\n",
    "       1&4&3&2&2\\\\\n",
    "       3&1&2&5&3\\\\\n",
    "       4&3&4&1&4\\\\\n",
    "       2&5&5&3&1\\\\\n",
    "       \\end{bmatrix}\n",
    "$$"
   ]
  },
  {
   "cell_type": "markdown",
   "metadata": {
    "collapsed": false
   },
   "source": [
    "(b) Descreva o uso desse conjunto de tabelas para realizar a encriptação e decriptação entre dois usuários."
   ]
  },
  {
   "cell_type": "markdown",
   "metadata": {
    "collapsed": false
   },
   "source": [
    "Suponha que uma mensagem de texto simples $p$ seja criptografada por Alice e enviada a Bob. Bob usa $M1$ e $M3$ e Alice usa $M2$. $Bob$ escolhe um número aleatório, $k$, como sua chave privada e mapeia $k$ por $M1$ para obter $x$, que ele envia como sua chave pública para Alice. Alice usa $x$ para criptografar $p$ com $M2$ para obter $z$, o texto cifrado, que ela envia para Bob. Bob usa $k$ para descriptografar $z$ por meio de $M3$, produzindo a mensagem de texto simples $p$"
   ]
  },
  {
   "cell_type": "markdown",
   "metadata": {
    "collapsed": false
   },
   "source": [
    "(c) Demonstre que esse é um esquema seguro"
   ]
  },
  {
   "cell_type": "markdown",
   "metadata": {
    "collapsed": false
   },
   "source": [
    "Se os números forem grandes o suficiente e $M1$ e $M2$ forem suficientemente aleatórios para tornar impraticável trabalhar de trás para frente, $p$ não poderá ser encontrado sem conhecer $k$"
   ]
  },
  {
   "cell_type": "markdown",
   "metadata": {
    "collapsed": false
   },
   "source": [
    "6. Realize a encriptação e decriptação usando o algoritmo RSA (Dica: a decriptação não é tão difícil quanto você pensa; use alguma sutileza), como na Figura 9.5, para o seguinte:"
   ]
  },
  {
   "cell_type": "code",
   "execution_count": 23,
   "metadata": {
    "collapsed": false
   },
   "outputs": [
   ],
   "source": [
    "def encrypt(p, q, e, M):\n",
    "    n = p * q\n",
    "    return (M ** e) % n\n",
    "\n",
    "def decrypt(p, q, e, C):\n",
    "    n = p * q\n",
    "    d = (e ** -1) % euler_phi(n)\n",
    "    return (C ** d) % n"
   ]
  },
  {
   "cell_type": "markdown",
   "metadata": {
    "collapsed": false
   },
   "source": [
    "(a) $p = 3; q = 11, e = 7; M = 5;$"
   ]
  },
  {
   "cell_type": "code",
   "execution_count": 24,
   "metadata": {
    "collapsed": false
   },
   "outputs": [
    {
     "name": "stdout",
     "output_type": "stream",
     "text": [
      "14 5\n"
     ]
    }
   ],
   "source": [
    "p, q, e, M = 3, 11, 7, 5\n",
    "C = encrypt(p, q, e, M)\n",
    "MM = decrypt(p, q, e, C)\n",
    "print(C, MM)"
   ]
  },
  {
   "cell_type": "markdown",
   "metadata": {
    "collapsed": false
   },
   "source": [
    "(b) $p = 5; q = 11, e = 3; M = 9;$"
   ]
  },
  {
   "cell_type": "code",
   "execution_count": 25,
   "metadata": {
    "collapsed": false
   },
   "outputs": [
    {
     "name": "stdout",
     "output_type": "stream",
     "text": [
      "14 9\n"
     ]
    }
   ],
   "source": [
    "p, q, e, M = 5, 11, 3, 9\n",
    "C = encrypt(p, q, e, M)\n",
    "MM = decrypt(p, q, e, C)\n",
    "print(C, MM)"
   ]
  },
  {
   "cell_type": "markdown",
   "metadata": {
    "collapsed": false
   },
   "source": [
    "(c) $p = 7; q = 11, e = 17; M = 8;$"
   ]
  },
  {
   "cell_type": "code",
   "execution_count": 26,
   "metadata": {
    "collapsed": false
   },
   "outputs": [
    {
     "name": "stdout",
     "output_type": "stream",
     "text": [
      "57 8\n"
     ]
    }
   ],
   "source": [
    "p, q, e, M = 7, 11, 17, 8\n",
    "C = encrypt(p, q, e, M)\n",
    "MM = decrypt(p, q, e, C)\n",
    "print(C, MM)"
   ]
  },
  {
   "cell_type": "markdown",
   "metadata": {
    "collapsed": false
   },
   "source": [
    "(d) $p = 11; q = 13, e = 11; M = 7;$"
   ]
  },
  {
   "cell_type": "code",
   "execution_count": 30,
   "metadata": {
    "collapsed": false
   },
   "outputs": [
    {
     "name": "stdout",
     "output_type": "stream",
     "text": [
      "106 7\n"
     ]
    }
   ],
   "source": [
    "p, q, e, M = 11, 13, 11, 7\n",
    "C = encrypt(p, q, e, M)\n",
    "MM = decrypt(p, q, e, C)\n",
    "print(C, MM)"
   ]
  },
  {
   "cell_type": "markdown",
   "metadata": {
    "collapsed": false
   },
   "source": [
    "(e) $p = 17; q = 31, e = 7; M = 2$"
   ]
  },
  {
   "cell_type": "code",
   "execution_count": 28,
   "metadata": {
    "collapsed": false
   },
   "outputs": [
    {
     "name": "stdout",
     "output_type": "stream",
     "text": [
      "128 2\n"
     ]
    }
   ],
   "source": [
    "p, q, e, M = 17, 31, 7, 2\n",
    "C = encrypt(p, q, e, M)\n",
    "MM = decrypt(p, q, e, C)\n",
    "print(C, MM)"
   ]
  },
  {
   "cell_type": "markdown",
   "metadata": {
    "collapsed": false
   },
   "source": [
    "7. Em um sistema de chave pública usando RSA, você intercepta o texto cifrado $C = 10$ enviado a um usuário cuja chave pública é $e = 5, n = 35$. Qual é o texto claro $M$?"
   ]
  },
  {
   "cell_type": "code",
   "execution_count": 29,
   "metadata": {
    "collapsed": false
   },
   "outputs": [
    {
     "data": {
      "text/plain": [
       "5"
      ]
     },
     "execution_count": 29,
     "metadata": {
     },
     "output_type": "execute_result"
    }
   ],
   "source": [
    "C, e, n = 10, 5, 35\n",
    "d = (e ** -1) % euler_phi(n)\n",
    "(C ** d) % n"
   ]
  }
 ],
 "metadata": {
  "kernelspec": {
   "argv": [
    "sage-10.0",
    "--python",
    "-m",
    "sage.repl.ipython_kernel",
    "--matplotlib=inline",
    "-f",
    "{connection_file}"
   ],
   "display_name": "SageMath 10.0",
   "env": {
   },
   "language": "sagemath",
   "metadata": {
    "cocalc": {
     "description": "Open-source mathematical software system",
     "priority": 10,
     "url": "https://www.sagemath.org/"
    }
   },
   "name": "sage-10.0",
   "resource_dir": "/ext/jupyter/kernels/sage-10.0"
  },
  "language_info": {
   "codemirror_mode": {
    "name": "ipython",
    "version": 3
   },
   "file_extension": ".py",
   "mimetype": "text/x-python",
   "name": "python",
   "nbconvert_exporter": "python",
   "pygments_lexer": "ipython3",
   "version": "3.11.1"
  }
 },
 "nbformat": 4,
 "nbformat_minor": 4
}