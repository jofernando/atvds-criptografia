{
 "cells": [
  {
   "cell_type": "markdown",
   "metadata": {
    "collapsed": false
   },
   "source": [
    "1. Por que $mdc(n, n + 1) = 1$ é para dois inteiros consecutivos $n$ e $n + 1$?"
   ]
  },
  {
   "cell_type": "markdown",
   "metadata": {
    "collapsed": false
   },
   "source": [
    "O $mdc(n, n+1)=$ já que $n$ e $n+1$ são coprimos, logo o maior divisor comun entre eles vai ser $1$"
   ]
  },
  {
   "cell_type": "markdown",
   "metadata": {
    "collapsed": false
   },
   "source": [
    "2. Usando o teorema de Fermat, encontre $3^{201}  \\mod {11}$"
   ]
  },
  {
   "cell_type": "markdown",
   "metadata": {
    "collapsed": false
   },
   "source": [
    "O teorema de Fermat estabelece que, se $p$ é um número primo e $a$ é um número inteiro não divisível por $p$, então $a^{p-1} \\equiv 1 \\pmod p$. \n",
    "\n",
    "$$3^{10} \\equiv 1 \\pmod {11} $$\n",
    "\n",
    "Portanto,\n",
    "\n",
    "$$3^{211}\\equiv 3^{10\\times 21+ 1}\\equiv(3^{10})^{21}×3\\equiv1^{21}×3\\equiv 3 \\pmod{11}$$\n",
    "\n"
   ]
  },
  {
   "cell_type": "markdown",
   "metadata": {
    "collapsed": false
   },
   "source": [
    "3. Use o teorema de Fermat para encontrar um número a entre 0 e 72, com a congruente a 9794 módulo 73."
   ]
  },
  {
   "cell_type": "markdown",
   "metadata": {
    "collapsed": false
   },
   "source": [
    "12"
   ]
  },
  {
   "cell_type": "markdown",
   "metadata": {
    "collapsed": false
   },
   "source": [
    "4. Use o teorema de Euler para encontrar um número $a$ entre $0$ e $9$, tal que $a \\equiv 7^{1000}\\pmod{10}$. (Observe que isso é o mesmo que o último dígito da expansão decimal de $7^{1000}$.)\n",
    "\n"
   ]
  },
  {
   "cell_type": "markdown",
   "metadata": {
    "collapsed": false
   },
   "source": [
    "Pelo teorema de Euler, $7^{\\phi(10)}=7^4\\equiv1\\pmod{10}$, então $7^{1000}=7^{4\\times250}\\equiv1^{250}=1\\pmod{10}$"
   ]
  },
  {
   "cell_type": "markdown",
   "metadata": {
    "collapsed": false
   },
   "source": [
    "5. Use o teorema de Euler para encontrar um número $x$ entre $0$ e $28$, com $x^{85}  \\equiv  6 \\pmod {35}$ (Você não precisará usar qualquer pesquisa por força bruta)."
   ]
  },
  {
   "cell_type": "markdown",
   "metadata": {
    "collapsed": false
   },
   "source": [
    "1"
   ]
  },
  {
   "cell_type": "markdown",
   "metadata": {
    "collapsed": false
   },
   "source": [
    "6. Observe, na Tabela 8.2, que $\\phi(n)$ é par para $n > 2$. Isso é verdadeiro para todo $n > 2$. Dê um argumento conciso para explicar por que isso acontece."
   ]
  },
  {
   "cell_type": "markdown",
   "metadata": {
    "collapsed": false
   },
   "source": [
    "$\\phi(n)$  é a quantidade de números k, com $ 1 ≤ k ≤ n$, em que $gcd(n,k)=1$\n",
    "\n",
    "Então, se $gcd(k,n)=1$, então $gcd(n−k,n)=1$. Então todos os números relativamente primos com $n$ podem ser pareados, logo $\\phi(n)$ é par."
   ]
  },
  {
   "cell_type": "markdown",
   "metadata": {
    "collapsed": false
   },
   "source": [
    "7. Se n é composto e passa no teste de Miller-Rabin para a base $a$, então $n$ é chamado de pseudoprimo forte à base $a$. Mostre que $2047$ é um pseudoprimo à base $2$."
   ]
  },
  {
   "cell_type": "markdown",
   "metadata": {
    "collapsed": false
   },
   "source": [
    "$2047-1 = 2046 = 2^kq$"
   ]
  },
  {
   "cell_type": "code",
   "execution_count": 15,
   "metadata": {
    "collapsed": false
   },
   "outputs": [
    {
     "name": "stdout",
     "output_type": "stream",
     "text": [
      "1 1023\n"
     ]
    }
   ],
   "source": [
    "a = 2\n",
    "k = 0\n",
    "q = 2046\n",
    "while True:\n",
    "    q = q / 2\n",
    "    k += 1\n",
    "    if (q % 2 == 1):\n",
    "        break\n",
    "print(k, q)"
   ]
  },
  {
   "cell_type": "markdown",
   "metadata": {
    "collapsed": false
   },
   "source": [
    "$2046 = 2^1\\times 1023$"
   ]
  },
  {
   "cell_type": "code",
   "execution_count": 16,
   "metadata": {
    "collapsed": false
   },
   "outputs": [
   ],
   "source": [
    "def test(a, k, q, n):\n",
    "    if (a ** q) % n == 1:\n",
    "        return 'inconclusive'\n",
    "    for j in range(k):\n",
    "        if (a**((2**j)*q)) % n == n - 1:\n",
    "            return 'inconclusive'\n",
    "    return 'composite'"
   ]
  },
  {
   "cell_type": "code",
   "execution_count": 17,
   "metadata": {
    "collapsed": false
   },
   "outputs": [
    {
     "name": "stdout",
     "output_type": "stream",
     "text": [
      "composite\n"
     ]
    }
   ],
   "source": [
    "print(test(a, k, q, n))"
   ]
  },
  {
   "cell_type": "markdown",
   "metadata": {
    "collapsed": false
   },
   "source": [
    "8. O exemplo usado por Sun-Tsu para ilustrar o CRT foi\n",
    "$$x\\equiv 2 \\pmod 3; x \\equiv 3 \\pmod 5; x \\equiv 2 \\pmod 7$$\n",
    "Solucione para $x$."
   ]
  },
  {
   "cell_type": "code",
   "execution_count": 21,
   "metadata": {
    "collapsed": false
   },
   "outputs": [
    {
     "name": "stdout",
     "output_type": "stream",
     "text": [
      "23\n"
     ]
    }
   ],
   "source": [
    "x = 1\n",
    "while True:\n",
    "    if (x % 3) == 2 and (x % 5) == 3 and (x % 7) == 2:\n",
    "        print(x)\n",
    "        break\n",
    "    x += 1"
   ]
  }
 ],
 "metadata": {
  "kernelspec": {
   "argv": [
    "sage-10.0",
    "--python",
    "-m",
    "sage.repl.ipython_kernel",
    "--matplotlib=inline",
    "-f",
    "{connection_file}"
   ],
   "display_name": "SageMath 10.0",
   "env": {
   },
   "language": "sagemath",
   "metadata": {
    "cocalc": {
     "description": "Open-source mathematical software system",
     "priority": 10,
     "url": "https://www.sagemath.org/"
    }
   },
   "name": "sage-10.0",
   "resource_dir": "/ext/jupyter/kernels/sage-10.0"
  },
  "language_info": {
   "codemirror_mode": {
    "name": "ipython",
    "version": 3
   },
   "file_extension": ".py",
   "mimetype": "text/x-python",
   "name": "python",
   "nbconvert_exporter": "python",
   "pygments_lexer": "ipython3",
   "version": "3.11.1"
  }
 },
 "nbformat": 4,
 "nbformat_minor": 4
}