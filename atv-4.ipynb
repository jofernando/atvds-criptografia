{
 "cells": [
  {
   "cell_type": "markdown",
   "metadata": {
    "collapsed": false
   },
   "source": [
    "1. Defina resumidamente, um grupo, um anel, um corpo.\n",
    "\n",
    "**Grupo:** é um conjunto de elementos com uma operação binária\n",
    "\n",
    "**Anel:** é um conjunto de elementos com duas operações binárias, chamadas adição e multiplicação\n",
    "\n",
    "**Corpo:**  é um conjunto de elementos com duas operações binárias, chamadas de adição e multiplicação, de modo que todo elemento != 0 possua um inverso multiplicativo.\n",
    "\n",
    "Cada conjunto de elementos acima satisfaz certas propriedades\n",
    "\n"
   ]
  },
  {
   "cell_type": "markdown",
   "metadata": {
    "collapsed": false
   },
   "source": [
    "2. O que significa dizer que b é um divisor de a?\n",
    "\n",
    "Que a / b resulta em um quociente inteiro com resto 0\n"
   ]
  },
  {
   "cell_type": "markdown",
   "metadata": {
    "collapsed": false
   },
   "source": [
    "3. Para cada uma das seguintes equações, encontre um inteiro x que satisfaça:\n",
    "\n",
    "\\(a\\) 5x ≡ 4 \\(mod 3\\)\n",
    "\n",
    "\\(b\\) 7x ≡ 6 \\(mod 5\\)\n",
    "\n",
    "\\(c\\) 9x ≡ 8 \\(mod 7\\)\n",
    "\n"
   ]
  },
  {
   "cell_type": "code",
   "execution_count": 12,
   "metadata": {
    "collapsed": false
   },
   "outputs": [
    {
     "data": {
      "text/plain": [
       "1"
      ]
     },
     "execution_count": 12,
     "metadata": {
     },
     "output_type": "execute_result"
    }
   ],
   "source": [
    "(5 * -1) % 3"
   ]
  },
  {
   "cell_type": "code",
   "execution_count": 13,
   "metadata": {
    "collapsed": false
   },
   "outputs": [
    {
     "data": {
      "text/plain": [
       "1"
      ]
     },
     "execution_count": 13,
     "metadata": {
     },
     "output_type": "execute_result"
    }
   ],
   "source": [
    "(7 * -2) % 5"
   ]
  },
  {
   "cell_type": "code",
   "execution_count": 14,
   "metadata": {
    "collapsed": false
   },
   "outputs": [
    {
     "data": {
      "text/plain": [
       "1"
      ]
     },
     "execution_count": 14,
     "metadata": {
     },
     "output_type": "execute_result"
    }
   ],
   "source": [
    "(9 * -3) % 7"
   ]
  },
  {
   "cell_type": "markdown",
   "metadata": {
    "collapsed": false
   },
   "source": [
    "4. Encontre o inverso multiplicativo de cada elemento diferente de zero em Z5.\n"
   ]
  },
  {
   "cell_type": "code",
   "execution_count": 0,
   "metadata": {
    "collapsed": false
   },
   "outputs": [
   ],
   "source": [
    "Encontre o inverso multiplicativo de cada elemento diferente de zero em Z5."
   ]
  },
  {
   "cell_type": "code",
   "execution_count": 5,
   "metadata": {
    "collapsed": false
   },
   "outputs": [
    {
     "name": "stdout",
     "output_type": "stream",
     "text": [
      "1\n",
      "3\n",
      "2\n",
      "4\n"
     ]
    }
   ],
   "source": [
    "for i in GF(5):\n",
    "    if (i != 0): print(i ^ -1)"
   ]
  },
  {
   "cell_type": "markdown",
   "metadata": {
    "collapsed": false
   },
   "source": [
    "5. Determine os MDC:\n",
    "\n",
    "\\(a\\) mdc\\(24140, 16762\\):\n",
    "\n",
    "\\(b\\) mdc\\(4655, 12075\\).\n",
    "\n"
   ]
  },
  {
   "cell_type": "code",
   "execution_count": 16,
   "metadata": {
    "collapsed": false
   },
   "outputs": [
    {
     "data": {
      "text/plain": [
       "34"
      ]
     },
     "execution_count": 16,
     "metadata": {
     },
     "output_type": "execute_result"
    }
   ],
   "source": [
    "gcd(24140, 16762)"
   ]
  },
  {
   "cell_type": "code",
   "execution_count": 17,
   "metadata": {
    "collapsed": false
   },
   "outputs": [
    {
     "data": {
      "text/plain": [
       "35"
      ]
     },
     "execution_count": 17,
     "metadata": {
     },
     "output_type": "execute_result"
    }
   ],
   "source": [
    "gcd(4655, 12075)"
   ]
  },
  {
   "cell_type": "markdown",
   "metadata": {
    "collapsed": false
   },
   "source": [
    "6. Usando o algoritmo de Euclides estendido, encontre o inverso multiplicativo de:\n",
    "\n",
    "\\(a\\) 1234 mod 4321;\n",
    "\n",
    "\\(b\\) 24140 mod 40902;\n",
    "\n",
    "\\(c\\) 550 mod 1769.\n",
    "\n"
   ]
  },
  {
   "cell_type": "code",
   "execution_count": 2,
   "metadata": {
    "collapsed": false
   },
   "outputs": [
    {
     "name": "stdout",
     "output_type": "stream",
     "text": [
      "3239 1\n"
     ]
    }
   ],
   "source": [
    "a, b = 1234, 4321\n",
    "gcd, x, y = xgcd(a, b)\n",
    "inverso = x % b\n",
    "if (gcd == 1): print(inverso, inverso * a % b)"
   ]
  },
  {
   "cell_type": "code",
   "execution_count": 36,
   "metadata": {
    "collapsed": false
   },
   "outputs": [
   ],
   "source": [
    "a, b = 24140, 40902\n",
    "gcd, x, y = xgcd(a, b)\n",
    "if (gcd == 1): print(x, x * a % b)"
   ]
  },
  {
   "cell_type": "code",
   "execution_count": 3,
   "metadata": {
    "collapsed": false
   },
   "outputs": [
    {
     "name": "stdout",
     "output_type": "stream",
     "text": [
      "550 1\n"
     ]
    }
   ],
   "source": [
    "a, b = 550, 1769\n",
    "gcd, x, y = xgcd(a, b)\n",
    "inverso = x % b\n",
    "if (gcd == 1): print(inverso, inverso * a % b)"
   ]
  },
  {
   "cell_type": "markdown",
   "metadata": {
    "collapsed": false
   },
   "source": [
    "7. Determine o inverso multiplicativo de x³ \\+ x \\+ 1 em GF\\(2⁴\\), com m\\(x\\) = x⁴ \\+ x \\+ 1.\n"
   ]
  },
  {
   "cell_type": "markdown",
   "metadata": {
    "collapsed": false
   },
   "source": [
    "8. Para a aritmética de polinômios com coeficientes em Z10, realize os seguintes cálculos:\n",
    "\n",
    "\\(a\\) \\(7x \\+ 2\\) − \\(x² \\+ 5\\)\n",
    "\n",
    "\\(b\\) \\(6x² \\+ x \\+ 3\\) × \\(5x² \\+ 2\\)\n",
    "\n"
   ]
  },
  {
   "cell_type": "markdown",
   "metadata": {
    "collapsed": false
   },
   "source": [
    "9. Estruture uma calculadora simples de quatro funções em GF\\(2⁴\\). Você pode usar uma tabela\n",
    "\n"
   ]
  }
 ],
 "metadata": {
  "kernelspec": {
   "argv": [
    "sage-10.0",
    "--python",
    "-m",
    "sage.repl.ipython_kernel",
    "--matplotlib=inline",
    "-f",
    "{connection_file}"
   ],
   "display_name": "SageMath 10.0",
   "env": {
   },
   "language": "sagemath",
   "metadata": {
    "cocalc": {
     "description": "Open-source mathematical software system",
     "priority": 10,
     "url": "https://www.sagemath.org/"
    }
   },
   "name": "sage-10.0",
   "resource_dir": "/ext/jupyter/kernels/sage-10.0"
  },
  "language_info": {
   "codemirror_mode": {
    "name": "ipython",
    "version": 3
   },
   "file_extension": ".py",
   "mimetype": "text/x-python",
   "name": "python",
   "nbconvert_exporter": "python",
   "pygments_lexer": "ipython3",
   "version": "3.11.1"
  }
 },
 "nbformat": 4,
 "nbformat_minor": 4
}