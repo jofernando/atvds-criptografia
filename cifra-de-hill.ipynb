{
 "cells": [
  {
   "cell_type": "code",
   "execution_count": 20,
   "metadata": {
    "collapsed": false
   },
   "outputs": [
   ],
   "source": [
    "def hill_encrypt(message, key):\n",
    "    string = 'ZABCDEFGHIJKLMNOPQRSTUVWXY'\n",
    "    \n",
    "    message = message.upper() # Coloca a string passada em maiúsculo\n",
    "    n = key.ncols() # Verifica o tamanho da chave\n",
    "\n",
    "    if len(message) % n != 0: # Coloca 'Z' no final da mensagem se necessário\n",
    "        message += 'Z' * (n - len(message) % n)\n",
    "\n",
    "    ciphertext = '' # Inicializa uma string vazia\n",
    "\n",
    "    for i in range(0, len(message), n): # Divide a mensagem em blocos de tamanho n, percorrendo os mesmos\n",
    "        block = message[i:i+n] # Converte o bloco em vetor coluna\n",
    "        block = vector([string.index(ch) for ch in block])\n",
    "\n",
    "        encrypted_block = block * key  % 26 # Encripta o bloco\n",
    "\n",
    "        ciphertext += ''.join([string[i] for i in encrypted_block]) # Converte o vetor resultante em uma string\n",
    "\n",
    "    return ciphertext\n",
    "\n",
    "def hill_decrypt(message, key):\n",
    "    string = 'ZABCDEFGHIJKLMNOPQRSTUVWXY'\n",
    "\n",
    "    n = key.ncols() # Verifica o tamanho da chave\n",
    "    plaintext = ''  # Inicializa uma string vazia\n",
    "    \n",
    "    inverse = key^-1 % 26\n",
    "    \n",
    "    for i in range(0, len(message), n): # Divide a mensagem em blocos de tamanho n, percorrendo os mesmos\n",
    "        block = message[i:i+n] # Converte o bloco em um vetor de coluna\n",
    "        block = vector([string.index(ch) for ch in block])\n",
    "        \n",
    "        decrypted_block = block * inverse % 26 # Decripta o bloco\n",
    "        plaintext += ''.join([string[i] for i in decrypted_block]) # Converte o bloco decriptado em string\n",
    "\n",
    "    plaintext = plaintext.rstrip('Z') # Remove os caracteres adicionais colocados no final da string\n",
    "\n",
    "    return plaintext"
   ]
  },
  {
   "cell_type": "code",
   "execution_count": 9,
   "metadata": {
    "collapsed": false
   },
   "outputs": [
    {
     "name": "stdout",
     "output_type": "stream",
     "text": [
      "Ciphertext:  KJVMDPKJYJHORJ\n",
      "Result:  ALGEBRALINEAR\n"
     ]
    }
   ],
   "source": [
    "message = \"ALGEBRALINEAR\"\n",
    "# Encrypt the plaintext message\n",
    "\n",
    "ciphertext = hill_encrypt(message, matrix([[1,2],[3,5]]))\n",
    "\n",
    "print(\"Ciphertext: \", ciphertext)\n",
    "result = hill_decrypt(ciphertext, matrix([[1,2],[3,5]]))\n",
    "print(\"Result: \", result)"
   ]
  },
  {
   "cell_type": "code",
   "execution_count": 10,
   "metadata": {
    "collapsed": false
   },
   "outputs": [
    {
     "name": "stdout",
     "output_type": "stream",
     "text": [
      "QOGXPYBYHYLYJSEZWXJKCUODTQDLWVGBGWETGOXCMHSDFWIQIIPAHTHPDFZMLSTDTTGLSRUTXXVDSBZCAJSZGNVHQXBRDAHUOUFF\n"
     ]
    }
   ],
   "source": [
    "import string\n",
    "import random\n",
    "\n",
    "def random_generator(size=100, chars=string.ascii_uppercase):\n",
    "    return ''.join(random.choice(chars) for _ in range(size))\n",
    "\n",
    "print(random_generator())"
   ]
  },
  {
   "cell_type": "code",
   "execution_count": 11,
   "metadata": {
    "collapsed": false
   },
   "outputs": [
    {
     "name": "stdout",
     "output_type": "stream",
     "text": [
      "WEUKJRCSHVSBAMIPOYTIZYGJYOZSPVRBANOMOQDMNEXWQNYRYFZHDUIFDPHMOHOFUBRKBCLYBCAUZPSSPTMXFYFUCRHMNWKZXCXU\n",
      "DOFEDBPMZTOJHOCBZEEEWAUDXIEGLJTHKNPQBMSUWWAYITGFWRXRQMYLBRYCAVUXENUYYAOYYAFGVJNSFLGBSMGQMNYCYEWVSSUA\n",
      "True\n"
     ]
    }
   ],
   "source": [
    "# TESTE COM STRING ALEATORIA\n",
    "\n",
    "p = random_generator()\n",
    "k = matrix([[1,2],[3,5]])\n",
    "\n",
    "result_encode = hill_encrypt(p, k)\n",
    "print(result_encode)\n",
    "result_decode = hill_decrypt(result_encode, k)\n",
    "print(result_decode)\n",
    "\n",
    "print(result_decode == p)"
   ]
  },
  {
   "cell_type": "code",
   "execution_count": 21,
   "metadata": {
    "collapsed": false
   },
   "outputs": [
    {
     "name": "stdout",
     "output_type": "stream",
     "text": [
      "True\n"
     ]
    },
    {
     "ename": "ZeroDivisionError",
     "evalue": "inverse of Mod(8, 26) does not exist",
     "output_type": "error",
     "traceback": [
      "\u001b[0;31m---------------------------------------------------------------------------\u001b[0m",
      "\u001b[0;31mZeroDivisionError\u001b[0m                         Traceback (most recent call last)",
      "Cell \u001b[0;32mIn [21], line 15\u001b[0m\n\u001b[1;32m     12\u001b[0m k \u001b[38;5;241m=\u001b[39m create_key_matrix(Integer(\u001b[38;5;241m3\u001b[39m))\n\u001b[1;32m     14\u001b[0m result_encode \u001b[38;5;241m=\u001b[39m hill_encrypt(p, k)\n\u001b[0;32m---> 15\u001b[0m result_decode \u001b[38;5;241m=\u001b[39m \u001b[43mhill_decrypt\u001b[49m\u001b[43m(\u001b[49m\u001b[43mresult_encode\u001b[49m\u001b[43m,\u001b[49m\u001b[43m \u001b[49m\u001b[43mk\u001b[49m\u001b[43m)\u001b[49m\n\u001b[1;32m     17\u001b[0m \u001b[38;5;28mprint\u001b[39m(result_decode \u001b[38;5;241m==\u001b[39m p)\n",
      "Cell \u001b[0;32mIn [20], line 28\u001b[0m, in \u001b[0;36mhill_decrypt\u001b[0;34m(message, key)\u001b[0m\n\u001b[1;32m     25\u001b[0m n \u001b[38;5;241m=\u001b[39m key\u001b[38;5;241m.\u001b[39mncols() \u001b[38;5;66;03m# Verifica o tamanho da chave\u001b[39;00m\n\u001b[1;32m     26\u001b[0m plaintext \u001b[38;5;241m=\u001b[39m \u001b[38;5;124m'\u001b[39m\u001b[38;5;124m'\u001b[39m  \u001b[38;5;66;03m# Inicializa uma string vazia\u001b[39;00m\n\u001b[0;32m---> 28\u001b[0m inverse \u001b[38;5;241m=\u001b[39m \u001b[43mkey\u001b[49m\u001b[38;5;241;43m*\u001b[39;49m\u001b[38;5;241;43m*\u001b[39;49m\u001b[38;5;241;43m-\u001b[39;49m\u001b[43mInteger\u001b[49m\u001b[43m(\u001b[49m\u001b[38;5;241;43m1\u001b[39;49m\u001b[43m)\u001b[49m\u001b[43m \u001b[49m\u001b[38;5;241;43m%\u001b[39;49m\u001b[43m \u001b[49m\u001b[43mInteger\u001b[49m\u001b[43m(\u001b[49m\u001b[38;5;241;43m26\u001b[39;49m\u001b[43m)\u001b[49m\n\u001b[1;32m     30\u001b[0m \u001b[38;5;28;01mfor\u001b[39;00m i \u001b[38;5;129;01min\u001b[39;00m \u001b[38;5;28mrange\u001b[39m(Integer(\u001b[38;5;241m0\u001b[39m), \u001b[38;5;28mlen\u001b[39m(message), n): \u001b[38;5;66;03m# Divide a mensagem em blocos de tamanho n, percorrendo os mesmos\u001b[39;00m\n\u001b[1;32m     31\u001b[0m     block \u001b[38;5;241m=\u001b[39m message[i:i\u001b[38;5;241m+\u001b[39mn] \u001b[38;5;66;03m# Converte o bloco em um vetor de coluna\u001b[39;00m\n",
      "File \u001b[0;32m/ext/sage/10.0/src/sage/matrix/matrix0.pyx:5260\u001b[0m, in \u001b[0;36msage.matrix.matrix0.Matrix.__mod__\u001b[0;34m()\u001b[0m\n\u001b[1;32m   5258\u001b[0m for i in range(A._nrows):\n\u001b[1;32m   5259\u001b[0m     for j in range(A._ncols):\n\u001b[0;32m-> 5260\u001b[0m         A[i,j] = s.get_unsafe(i,j) % p\n\u001b[1;32m   5261\u001b[0m return A\n\u001b[1;32m   5262\u001b[0m \n",
      "File \u001b[0;32m/ext/sage/10.0/src/sage/rings/rational.pyx:2818\u001b[0m, in \u001b[0;36msage.rings.rational.Rational.__mod__\u001b[0;34m()\u001b[0m\n\u001b[1;32m   2816\u001b[0m n = rat.numer() % other\n\u001b[1;32m   2817\u001b[0m d = rat.denom() % other\n\u001b[0;32m-> 2818\u001b[0m d = d.inverse_mod(other)\n\u001b[1;32m   2819\u001b[0m return (n * d) % other\n\u001b[1;32m   2820\u001b[0m \n",
      "File \u001b[0;32m/ext/sage/10.0/src/sage/rings/integer.pyx:6879\u001b[0m, in \u001b[0;36msage.rings.integer.Integer.inverse_mod\u001b[0;34m()\u001b[0m\n\u001b[1;32m   6877\u001b[0m sig_off()\n\u001b[1;32m   6878\u001b[0m if r == 0:\n\u001b[0;32m-> 6879\u001b[0m     raise ZeroDivisionError(f\"inverse of Mod({self}, {m}) does not exist\")\n\u001b[1;32m   6880\u001b[0m return ans\n\u001b[1;32m   6881\u001b[0m \n",
      "\u001b[0;31mZeroDivisionError\u001b[0m: inverse of Mod(8, 26) does not exist"
     ]
    }
   ],
   "source": [
    "# TESTE COM STRING E CHAVE ALEATORIA\n",
    "\n",
    "def create_key_matrix(n):\n",
    "    # Gera uma matriz n x n mod(26) que possui determinante\n",
    "    A = matrix(n, n, list(randint(0, 25) for i in range(n * n)))\n",
    "    if A.det() % 26 == 0 or not A.is_invertible:\n",
    "        return create_key_matrix(n)\n",
    "    return A\n",
    "\n",
    "for i in range(100):\n",
    "    p = random_generator()\n",
    "    k = create_key_matrix(3)\n",
    "\n",
    "    result_encode = hill_encrypt(p, k)\n",
    "    result_decode = hill_decrypt(result_encode, k)\n",
    "\n",
    "    print(result_decode == p)"
   ]
  },
  {
   "cell_type": "code",
   "execution_count": 0,
   "metadata": {
    "collapsed": false
   },
   "outputs": [
   ],
   "source": [
   ]
  }
 ],
 "metadata": {
  "kernelspec": {
   "argv": [
    "sage-10.0",
    "--python",
    "-m",
    "sage.repl.ipython_kernel",
    "--matplotlib=inline",
    "-f",
    "{connection_file}"
   ],
   "display_name": "SageMath 10.0",
   "env": {
   },
   "language": "sagemath",
   "metadata": {
    "cocalc": {
     "description": "Open-source mathematical software system",
     "priority": 10,
     "url": "https://www.sagemath.org/"
    }
   },
   "name": "sage-10.0",
   "resource_dir": "/ext/jupyter/kernels/sage-10.0"
  },
  "language_info": {
   "codemirror_mode": {
    "name": "ipython",
    "version": 3
   },
   "file_extension": ".py",
   "mimetype": "text/x-python",
   "name": "python",
   "nbconvert_exporter": "python",
   "pygments_lexer": "ipython3",
   "version": "3.11.1"
  }
 },
 "nbformat": 4,
 "nbformat_minor": 4
}