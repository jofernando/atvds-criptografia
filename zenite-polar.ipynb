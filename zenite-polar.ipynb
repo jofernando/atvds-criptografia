{
 "cells": [
  {
   "cell_type": "code",
   "execution_count": 2,
   "metadata": {
    "collapsed": false
   },
   "outputs": [
   ],
   "source": [
    "def encode(msg):\n",
    "    encode_dic = {\"Z\": \"P\", \"E\": \"O\", \"N\": \"L\", \"I\": \"A\", \"T\": \"R\", \"P\": \"Z\", \"O\": \"E\", \"L\": \"N\", \"A\": \"I\", \"R\": \"T\"}\n",
    "    \n",
    "    msg, msg_encode = msg.upper(), \"\" # Coloca a mensagem em maiúsculo e inicializa a string vazia\n",
    "    for i in msg: # Percorre a mensagem invertendo as letras pelo encode_dic\n",
    "        if i in encode_dic:\n",
    "            msg_encode += encode_dic[i]\n",
    "        else:\n",
    "            msg_encode += i\n",
    "            \n",
    "    return msg_encode\n",
    "\n",
    "def decode(msg):\n",
    "    decode_dic = {\"Z\": \"P\", \"E\": \"O\", \"N\": \"L\", \"I\": \"A\", \"T\": \"R\", \"P\": \"Z\", \"O\": \"E\", \"L\": \"N\", \"A\": \"I\", \"R\": \"T\"}\n",
    "    \n",
    "    msg, msg_decode = msg.upper(), \"\" # Coloca a mensagem em maiúsculo e inicializa a string vazia\n",
    "    for i in msg: # Percorre a mensagem invertendo as letras pelo decode_dic\n",
    "        if i in decode_dic:\n",
    "            msg_decode += decode_dic[i]\n",
    "        else:\n",
    "            msg_decode += i\n",
    "            \n",
    "    return msg_decode"
   ]
  },
  {
   "cell_type": "code",
   "execution_count": 3,
   "metadata": {
    "collapsed": false
   },
   "outputs": [
    {
     "name": "stdout",
     "output_type": "stream",
     "text": [
      "FOTLILDE\n",
      "FERNANDO\n"
     ]
    }
   ],
   "source": [
    "result = encode(\"fernando\")\n",
    "print(result)\n",
    "result = decode(result)\n",
    "print(result)"
   ]
  },
  {
   "cell_type": "code",
   "execution_count": 4,
   "metadata": {
    "collapsed": false
   },
   "outputs": [
    {
     "name": "stdout",
     "output_type": "stream",
     "text": [
      "QGHIKGBURNHOINCHKFHAMZZJFQXRCKFQGPUFUDSYVYTWNODPNSLFFNIKWDATGJCBMKHQWRWAONCGLWMDJPZOFJOARQKIAXUSKBAF\n"
     ]
    }
   ],
   "source": [
    "import string\n",
    "import random\n",
    "\n",
    "def random_generator(size=100, chars=string.ascii_uppercase):\n",
    "    return ''.join(random.choice(chars) for _ in range(size))\n",
    "\n",
    "print(random_generator())"
   ]
  },
  {
   "cell_type": "code",
   "execution_count": 5,
   "metadata": {
    "collapsed": false
   },
   "outputs": [
    {
     "name": "stdout",
     "output_type": "stream",
     "text": [
      "XOOHYHBRQUMYJZFRMLNOZMZTXXWYAFOYFRSUTKFJTMJTSZGCYQHTBGZYQRGFOETDNETQMRYSRKDTVGPTYUAPSMFVKSTVHPMHZFBY\n",
      "XEEHYHBTQUMYJPFTMNLEPMPRXXWYIFEYFTSURKFJRMJRSPGCYQHRBGPYQTGFEORDLORQMTYSTKDRVGZRYUIZSMFVKSRVHZMHPFBY\n",
      "True\n"
     ]
    }
   ],
   "source": [
    "# TESTE COM STRING ALEATORIA\n",
    "\n",
    "p = random_generator()\n",
    "\n",
    "result_encode = encode(p)\n",
    "print(result_encode)\n",
    "result_decode = decode(result_encode)\n",
    "print(result_decode)\n",
    "\n",
    "print(result_decode == p)"
   ]
  },
  {
   "cell_type": "code",
   "execution_count": 0,
   "metadata": {
    "collapsed": false
   },
   "outputs": [
   ],
   "source": [
   ]
  }
 ],
 "metadata": {
  "kernelspec": {
   "argv": [
    "sage-10.0",
    "--python",
    "-m",
    "sage.repl.ipython_kernel",
    "--matplotlib=inline",
    "-f",
    "{connection_file}"
   ],
   "display_name": "SageMath 10.0",
   "env": {
   },
   "language": "sagemath",
   "metadata": {
    "cocalc": {
     "description": "Open-source mathematical software system",
     "priority": 10,
     "url": "https://www.sagemath.org/"
    }
   },
   "name": "sage-10.0",
   "resource_dir": "/ext/jupyter/kernels/sage-10.0"
  },
  "language_info": {
   "codemirror_mode": {
    "name": "ipython",
    "version": 3
   },
   "file_extension": ".py",
   "mimetype": "text/x-python",
   "name": "python",
   "nbconvert_exporter": "python",
   "pygments_lexer": "ipython3",
   "version": "3.11.1"
  }
 },
 "nbformat": 4,
 "nbformat_minor": 4
}